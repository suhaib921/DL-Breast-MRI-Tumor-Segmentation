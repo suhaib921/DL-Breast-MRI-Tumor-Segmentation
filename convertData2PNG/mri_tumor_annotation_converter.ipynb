{
 "cells": [
  {
   "cell_type": "markdown",
   "metadata": {},
   "source": [
    "## Import Libraries"
   ]
  },
  {
   "cell_type": "code",
   "execution_count": 2,
   "metadata": {},
   "outputs": [],
   "source": [
    "import os\n",
    "import json\n",
    "import cv2\n",
    "import numpy as np\n",
    "import base64"
   ]
  },
  {
   "cell_type": "markdown",
   "metadata": {},
   "source": [
    "## Set Folder Path and File Names"
   ]
  },
  {
   "cell_type": "code",
   "execution_count": null,
   "metadata": {},
   "outputs": [],
   "source": [
    "# Set folder path (adjust if needed)\n",
    "folder_path = '/home/suhkth/Desktop/DL-Breast-MRI-Tumor-Segmentation/convertData2PNG/labeled_mri_gray'\n",
    "\n",
    "# File names\n",
    "json_files = [f for f in os.listdir(folder_path) if f.endswith('.json')]\n",
    "print(f\"Found {len(json_files)} JSON files to process.\")\n",
    "\n",
    "for json_file in json_files:\n",
    "    # Construct full paths for input JSON and output files\n",
    "    json_filename = os.path.join(folder_path, json_file)\n",
    "    slice_name = os.path.splitext(json_file)[0]  # Remove .json extension\n",
    "    output_image_filename = os.path.join(folder_path, f\"{slice_name}_label.png\")\n",
    "    output_text_filename = os.path.join(folder_path, f\"{slice_name}_label.txt\")\n",
    "\n",
    "    print(f\"Processing: {json_file}\")"
   ]
  },
  {
   "cell_type": "markdown",
   "metadata": {},
   "source": [
    "## Read JSON File and Determine Image Size"
   ]
  },
  {
   "cell_type": "code",
   "execution_count": null,
   "metadata": {},
   "outputs": [
    {
     "name": "stdout",
     "output_type": "stream",
     "text": [
      "Determined image dimensions: 300 x 300\n"
     ]
    }
   ],
   "source": [
    "# Load the JSON annotation file\n",
    "with open(json_filename, 'r') as f:\n",
    "    data = json.load(f)\n",
    "\n",
    "# Determine image dimensions\n",
    "    height, width = (300, 300)  # Default dimensions\n",
    "    if \"imageData\" in data and data[\"imageData\"]:\n",
    "        # Use embedded base64 imageData\n",
    "        imageData = data[\"imageData\"]\n",
    "        img_bytes = base64.b64decode(imageData)\n",
    "        img_arr = np.frombuffer(img_bytes, np.uint8)\n",
    "        decoded_img = cv2.imdecode(img_arr, cv2.IMREAD_COLOR)\n",
    "        if decoded_img is not None:\n",
    "            height, width = decoded_img.shape[:2]\n",
    "    elif \"imagePath\" in data and data[\"imagePath\"]:\n",
    "        # Use imagePath to load the image file\n",
    "        image_file = os.path.join(folder_path, data[\"imagePath\"])\n",
    "        if os.path.exists(image_file):\n",
    "            loaded_img = cv2.imread(image_file)\n",
    "            if loaded_img is not None:\n",
    "                height, width = loaded_img.shape[:2]\n",
    "\n",
    "    print(f\"Image dimensions: {height} x {width}\")\n"
   ]
  },
  {
   "cell_type": "markdown",
   "metadata": {},
   "source": [
    "## Create a Blank RGB Image"
   ]
  },
  {
   "cell_type": "code",
   "execution_count": 7,
   "metadata": {},
   "outputs": [],
   "source": [
    "# Create a blank (all-black) image with three color channels (RGB)\n",
    "blank_img = np.zeros((height, width, 3), dtype=np.uint8)"
   ]
  },
  {
   "cell_type": "markdown",
   "metadata": {},
   "source": [
    "## Draw the Annotated “tumor” Polygons in Red"
   ]
  },
  {
   "cell_type": "code",
   "execution_count": 8,
   "metadata": {},
   "outputs": [
    {
     "name": "stdout",
     "output_type": "stream",
     "text": [
      "Annotated polygons have been drawn on the image.\n"
     ]
    }
   ],
   "source": [
    "# Loop through each shape in the JSON\n",
    "for shape in data.get('shapes', []):\n",
    "    # Filter by label \"tumor\" (case-insensitive)\n",
    "    if shape.get(\"label\", \"\").lower() != \"tumor\":\n",
    "        continue\n",
    "\n",
    "    # Get the list of points and convert to NumPy array; round and convert to integers\n",
    "    pts = np.array(shape.get('points', []), dtype=np.float32)\n",
    "    pts = np.round(pts).astype(np.int32)\n",
    "    pts = pts.reshape((-1, 1, 2))\n",
    "    \n",
    "    # Fill the polygon on the blank image with red.\n",
    "    # Note: OpenCV uses BGR, so red is (0, 0, 255).\n",
    "    cv2.fillPoly(blank_img, [pts], (0, 0, 255))\n",
    "\n",
    "print(\"Annotated polygons have been drawn on the image.\")\n"
   ]
  },
  {
   "cell_type": "markdown",
   "metadata": {},
   "source": [
    "## Save the Output Image\n"
   ]
  },
  {
   "cell_type": "code",
   "execution_count": 9,
   "metadata": {},
   "outputs": [
    {
     "name": "stdout",
     "output_type": "stream",
     "text": [
      "Output image saved to: /home/suhkth/Desktop/DL-Breast-MRI-Tumor-Segmentation/convertData2PNG/labeled_mri_gray/slice_0500_post_label.png\n"
     ]
    }
   ],
   "source": [
    "# Save the image with the drawn annotations\n",
    "cv2.imwrite(output_image_filename, blank_img)\n",
    "print(f\"Output image saved to: {output_image_filename}\")\n"
   ]
  },
  {
   "cell_type": "markdown",
   "metadata": {},
   "source": [
    "## Write the Class Names to a Text File"
   ]
  },
  {
   "cell_type": "code",
   "execution_count": 10,
   "metadata": {},
   "outputs": [
    {
     "name": "stdout",
     "output_type": "stream",
     "text": [
      "Class names saved to: /home/suhkth/Desktop/DL-Breast-MRI-Tumor-Segmentation/convertData2PNG/labeled_mri_gray/slice_0500_post_label.txt\n"
     ]
    }
   ],
   "source": [
    "# Write the two class names to a text file\n",
    "with open(output_text_filename, 'w') as txt_file:\n",
    "    txt_file.write(\"background\\ntumor\")\n",
    "\n",
    "print(f\"Class names saved to: {output_text_filename}\")\n"
   ]
  }
 ],
 "metadata": {
  "kernelspec": {
   "display_name": "labelme_env",
   "language": "python",
   "name": "python3"
  },
  "language_info": {
   "codemirror_mode": {
    "name": "ipython",
    "version": 3
   },
   "file_extension": ".py",
   "mimetype": "text/x-python",
   "name": "python",
   "nbconvert_exporter": "python",
   "pygments_lexer": "ipython3",
   "version": "3.12.3"
  }
 },
 "nbformat": 4,
 "nbformat_minor": 2
}
